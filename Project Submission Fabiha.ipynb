{
 "cells": [
  {
   "cell_type": "markdown",
   "id": "ed175a82",
   "metadata": {},
   "source": [
    "# Project Submission\n",
    "\n",
    "**Please use this notebook for your submission.**\n",
    "\n",
    "Make sure to fill out all the required fields and to answer all the questions.\n",
    "\n",
    "You will be working with a dataset that includes the results of international football matches from 1872 to 2024. The matches range from FIFA World Cups to regular friendly matches. \n",
    "\n",
    "At the end of this project, you will have answered the following questions:\n",
    "\n",
    "1. What is the average number of goals for the home team? \n",
    "2. What is the average number of goals for the away team? \n",
    "3. What is the country with the highest overall home score?\n",
    "4. What are the top 3 type of tournaments?\n",
    "5. Which country has the highest overall FIFA World Cup goals?\n",
    "\n",
    "\n",
    "**Submission Requirements:**\n",
    "\n",
    "- Make sure that you run all cells with code in your notebook before submitting.\n",
    "- You can add additional cells of code if you want, but make sure to clean up your notebook, and only leave the code required to answer the questions.\n",
    "\n",
    "\n",
    "_Original Data Source: [Kaggle](https://www.kaggle.com/datasets/martj42/international-football-results-from-1872-to-2017/data)_"
   ]
  },
  {
   "cell_type": "markdown",
   "id": "43e336b8",
   "metadata": {},
   "source": [
    "## Step 1: Getting Started\n",
    "\n",
    "You will mainly work with a Python library called Pandas. Pandas is a powerful library that allows us to manipulate data. In order to use Pandas, you first have to import it. "
   ]
  },
  {
   "cell_type": "code",
   "execution_count": 95,
   "id": "3033fd44",
   "metadata": {},
   "outputs": [],
   "source": [
    "import pandas as pd"
   ]
  },
  {
   "cell_type": "markdown",
   "id": "f7e3b7f7",
   "metadata": {},
   "source": [
    "## Step 2: Loading and Exporing the Data\n",
    "\n",
    "You can use Pandas to explore and manipulate the _results.csv_ file. \n",
    "You first have to load the csv file into a Pandas dataframe, so you can then analyize the data. \n",
    "\n",
    "When using `pd.read_csv()`, make sure you inlcude the correct path to the csv file, depending on where you saved it when you downloaded it."
   ]
  },
  {
   "cell_type": "code",
   "execution_count": 98,
   "id": "2c9de780",
   "metadata": {
    "scrolled": true
   },
   "outputs": [],
   "source": [
    "# First: Load the csv file into a Pandas dataframe (df)\n",
    "df = pd.read_csv('results.csv')"
   ]
  },
  {
   "cell_type": "code",
   "execution_count": 100,
   "id": "bb2a11f0",
   "metadata": {},
   "outputs": [
    {
     "name": "stdout",
     "output_type": "stream",
     "text": [
      "<class 'pandas.core.frame.DataFrame'>\n",
      "RangeIndex: 45315 entries, 0 to 45314\n",
      "Data columns (total 9 columns):\n",
      " #   Column      Non-Null Count  Dtype \n",
      "---  ------      --------------  ----- \n",
      " 0   date        45315 non-null  object\n",
      " 1   home_team   45315 non-null  object\n",
      " 2   away_team   45315 non-null  object\n",
      " 3   home_score  45315 non-null  int64 \n",
      " 4   away_score  45315 non-null  int64 \n",
      " 5   tournament  45315 non-null  object\n",
      " 6   city        45315 non-null  object\n",
      " 7   country     45315 non-null  object\n",
      " 8   neutral     45315 non-null  bool  \n",
      "dtypes: bool(1), int64(2), object(6)\n",
      "memory usage: 2.8+ MB\n"
     ]
    }
   ],
   "source": [
    "# Explore the df\n",
    "\n",
    "df.info()"
   ]
  },
  {
   "cell_type": "markdown",
   "id": "6583c146-54de-4ccb-91d2-a58bba8173f4",
   "metadata": {},
   "source": []
  },
  {
   "cell_type": "markdown",
   "id": "6a2aa881",
   "metadata": {},
   "source": [
    "## Step 3: Data Analysis"
   ]
  },
  {
   "cell_type": "markdown",
   "id": "98b9d5dd",
   "metadata": {},
   "source": [
    "### Q1: What is the average number of goals for the home team?\n",
    "\n",
    "Hint: You can call the `mean()` method on the _'home_score'_ column."
   ]
  },
  {
   "cell_type": "code",
   "execution_count": 105,
   "id": "0b3c276c-dc86-4775-a756-c6c881561699",
   "metadata": {},
   "outputs": [
    {
     "data": {
      "text/plain": [
       "1.7393136930376256"
      ]
     },
     "execution_count": 105,
     "metadata": {},
     "output_type": "execute_result"
    }
   ],
   "source": [
    "df['home_score'].mean()\n",
    "\n"
   ]
  },
  {
   "cell_type": "markdown",
   "id": "dea04320-8f7e-4859-aafb-065bcdd0cb1c",
   "metadata": {},
   "source": [
    "the mean of the home score is 1.7393136930376256"
   ]
  },
  {
   "cell_type": "markdown",
   "id": "ce194e01",
   "metadata": {},
   "source": [
    "### Q2: What is the average number of goals for the away team?\n",
    "\n",
    "Hint: You can call the `mean()` method on the _'away_score'_ column."
   ]
  },
  {
   "cell_type": "code",
   "execution_count": 109,
   "id": "4fb43467",
   "metadata": {},
   "outputs": [
    {
     "data": {
      "text/plain": [
       "1.1782412004854905"
      ]
     },
     "execution_count": 109,
     "metadata": {},
     "output_type": "execute_result"
    }
   ],
   "source": [
    "df['away_score'].mean()\n",
    "\n"
   ]
  },
  {
   "cell_type": "markdown",
   "id": "6100854e-c95c-4b49-8521-4fe7eab70634",
   "metadata": {},
   "source": [
    "the mean of the away score is 1.1782412004854905"
   ]
  },
  {
   "cell_type": "markdown",
   "id": "c6044d75",
   "metadata": {},
   "source": [
    "### Q3: What is the country with the highest overall home score?\n",
    "\n",
    "Hint: You will need to group the data by country, then get the sum of home scores for each country. You can use the `idxmax()` function to find the index(country) with the highest sum. "
   ]
  },
  {
   "cell_type": "code",
   "execution_count": 113,
   "id": "e5d93b04",
   "metadata": {
    "scrolled": true
   },
   "outputs": [
    {
     "data": {
      "text/plain": [
       "country\n",
       "Afghanistan    35813\n",
       "Name: home_score, dtype: int64"
      ]
     },
     "execution_count": 113,
     "metadata": {},
     "output_type": "execute_result"
    }
   ],
   "source": [
    "df.groupby('country')['home_score'].idxmax().head(1)"
   ]
  },
  {
   "cell_type": "markdown",
   "id": "e64af667-acff-411e-bcb1-caa9e4dba631",
   "metadata": {},
   "source": [
    "Afghanistan"
   ]
  },
  {
   "cell_type": "markdown",
   "id": "47e0f275",
   "metadata": {
    "editable": true,
    "slideshow": {
     "slide_type": ""
    },
    "tags": []
   },
   "source": [
    "### Q4: What are the top 3 type of tournaments?\n",
    "\n",
    "Hint: You can use the `value_counts()` method to count the occurences of each unique value in the _'tournament'_ column."
   ]
  },
  {
   "cell_type": "code",
   "execution_count": 117,
   "id": "2d65e4e3",
   "metadata": {},
   "outputs": [
    {
     "data": {
      "text/plain": [
       "tournament\n",
       "Friendly                        17773\n",
       "FIFA World Cup qualification     8016\n",
       "UEFA Euro qualification          2815\n",
       "Name: count, dtype: int64"
      ]
     },
     "execution_count": 117,
     "metadata": {},
     "output_type": "execute_result"
    }
   ],
   "source": [
    "df['tournament'].value_counts().head(3)\n",
    "\n"
   ]
  },
  {
   "cell_type": "markdown",
   "id": "5a5eb87d-3c39-4905-ab51-6808bc556ef4",
   "metadata": {},
   "source": [
    "1.Friendly 2.FIFA WC qualifications 3. UEFA Euro qualifications"
   ]
  },
  {
   "cell_type": "markdown",
   "id": "0bdc8158",
   "metadata": {},
   "source": [
    "### Q5: Which country has the highest overall FIFA World Cup goals?\n",
    "\n",
    "To answer this question, consider breaking down your solution into 3 steps.\n",
    "\n",
    "**5.1 Create a new dataframe (fifa_df) that only contains rows where the \"tournament\" column == 'FIFA World Cup'.**"
   ]
  },
  {
   "cell_type": "code",
   "execution_count": 193,
   "id": "db30530c",
   "metadata": {},
   "outputs": [],
   "source": [
    "fifa_df = df[['tournament','country','home_team','away_team','home_score','away_score']].copy()"
   ]
  },
  {
   "cell_type": "code",
   "execution_count": 198,
   "id": "cb8d5454-f2eb-4fe7-9268-9c74d38f983f",
   "metadata": {},
   "outputs": [
    {
     "name": "stdout",
     "output_type": "stream",
     "text": [
      "           tournament  country  home_team      away_team  home_score  \\\n",
      "1311   FIFA World Cup  Uruguay    Belgium  United States           0   \n",
      "1312   FIFA World Cup  Uruguay     France         Mexico           4   \n",
      "1313   FIFA World Cup  Uruguay     Brazil     Yugoslavia           1   \n",
      "1314   FIFA World Cup  Uruguay       Peru        Romania           1   \n",
      "1315   FIFA World Cup  Uruguay  Argentina         France           1   \n",
      "...               ...      ...        ...            ...         ...   \n",
      "44349  FIFA World Cup    Qatar    England         France           1   \n",
      "44351  FIFA World Cup    Qatar  Argentina        Croatia           3   \n",
      "44352  FIFA World Cup    Qatar     France        Morocco           2   \n",
      "44356  FIFA World Cup    Qatar    Croatia        Morocco           2   \n",
      "44358  FIFA World Cup    Qatar  Argentina         France           3   \n",
      "\n",
      "       away_score  \n",
      "1311            3  \n",
      "1312            1  \n",
      "1313            2  \n",
      "1314            3  \n",
      "1315            0  \n",
      "...           ...  \n",
      "44349           2  \n",
      "44351           0  \n",
      "44352           0  \n",
      "44356           1  \n",
      "44358           3  \n",
      "\n",
      "[964 rows x 6 columns]\n"
     ]
    }
   ],
   "source": [
    "fifa_df=fifa_df.query('tournament ==\"FIFA World Cup\"')\n",
    "print(fifa_df)"
   ]
  },
  {
   "cell_type": "markdown",
   "id": "c06b0011",
   "metadata": {},
   "source": [
    "**5.2 In your new fifa_df, create a new _'total_score'_ column that sums _'home_score'_ + _'away_score'_ for each row.**\n",
    "\n",
    "PS. If you get a \"SettingWithCopyWarning\", please ignore it."
   ]
  },
  {
   "cell_type": "code",
   "execution_count": 201,
   "id": "8dd33359",
   "metadata": {},
   "outputs": [
    {
     "name": "stdout",
     "output_type": "stream",
     "text": [
      "           tournament  country  home_team      away_team  home_score  \\\n",
      "1311   FIFA World Cup  Uruguay    Belgium  United States           0   \n",
      "1312   FIFA World Cup  Uruguay     France         Mexico           4   \n",
      "1313   FIFA World Cup  Uruguay     Brazil     Yugoslavia           1   \n",
      "1314   FIFA World Cup  Uruguay       Peru        Romania           1   \n",
      "1315   FIFA World Cup  Uruguay  Argentina         France           1   \n",
      "...               ...      ...        ...            ...         ...   \n",
      "44349  FIFA World Cup    Qatar    England         France           1   \n",
      "44351  FIFA World Cup    Qatar  Argentina        Croatia           3   \n",
      "44352  FIFA World Cup    Qatar     France        Morocco           2   \n",
      "44356  FIFA World Cup    Qatar    Croatia        Morocco           2   \n",
      "44358  FIFA World Cup    Qatar  Argentina         France           3   \n",
      "\n",
      "       away_score  total_score  \n",
      "1311            3            3  \n",
      "1312            1            5  \n",
      "1313            2            3  \n",
      "1314            3            4  \n",
      "1315            0            1  \n",
      "...           ...          ...  \n",
      "44349           2            3  \n",
      "44351           0            3  \n",
      "44352           0            2  \n",
      "44356           1            3  \n",
      "44358           3            6  \n",
      "\n",
      "[964 rows x 7 columns]\n"
     ]
    }
   ],
   "source": [
    "fifa_df['total_score']=fifa_df.apply(lambda row: row.home_score + row.away_score, axis=1)\n",
    "print(fifa_df)"
   ]
  },
  {
   "cell_type": "markdown",
   "id": "9b7d48d2",
   "metadata": {},
   "source": [
    "**5.3 Group your data by country, then get the sum of the _'total_score'_ column. From there, you can use `idxmax()` to find the country with the highest _'total_score'_.**"
   ]
  },
  {
   "cell_type": "code",
   "execution_count": 204,
   "id": "682c7a8a",
   "metadata": {},
   "outputs": [
    {
     "data": {
      "text/plain": [
       "country\n",
       "Argentina    10756\n",
       "Name: total_score, dtype: int64"
      ]
     },
     "execution_count": 204,
     "metadata": {},
     "output_type": "execute_result"
    }
   ],
   "source": [
    "# Code here\n",
    "fifa_df.groupby('country')['total_score'].idxmax().head(1)\n"
   ]
  },
  {
   "cell_type": "code",
   "execution_count": null,
   "id": "96ad0d39-b988-4e1d-b8b4-e4c8276a7006",
   "metadata": {},
   "outputs": [],
   "source": []
  }
 ],
 "metadata": {
  "kernelspec": {
   "display_name": "anaconda-panel-2023.05-py310",
   "language": "python",
   "name": "conda-env-anaconda-panel-2023.05-py310-py"
  },
  "language_info": {
   "codemirror_mode": {
    "name": "ipython",
    "version": 3
   },
   "file_extension": ".py",
   "mimetype": "text/x-python",
   "name": "python",
   "nbconvert_exporter": "python",
   "pygments_lexer": "ipython3",
   "version": "3.11.5"
  }
 },
 "nbformat": 4,
 "nbformat_minor": 5
}
